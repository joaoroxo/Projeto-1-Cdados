{
 "cells": [
  {
   "cell_type": "markdown",
   "metadata": {},
   "source": [
    "# Projeto 1 - Ciência dos Dados"
   ]
  },
  {
   "cell_type": "markdown",
   "metadata": {},
   "source": [
    "Nome: João Nogueira Roxo da Fonseca"
   ]
  },
  {
   "cell_type": "markdown",
   "metadata": {},
   "source": [
    "## Pergunta (s) a ser respondida"
   ]
  },
  {
   "cell_type": "markdown",
   "metadata": {},
   "source": [
    "Com a criação do Mercosul, os países que ingressaram melhoraram sua exportações em comparação aos países que somente se associaram? Decorrente a isso seu PIB também cresceu diante a mesma comparação?"
   ]
  },
  {
   "cell_type": "markdown",
   "metadata": {},
   "source": [
    "## Explicação da hipótese e mecanismo"
   ]
  },
  {
   "cell_type": "markdown",
   "metadata": {},
   "source": [
    "   Os países pertencentes ao Mercosul exportaram mais do que países somentes associados a esse bloco, já que o Mercosul tem vantagens para que a exportação aconteça de uma forma mais acentuada, o que não acontece para os países somentes associados pelo fato dos países dos próprios não adotarem a Tec(Tarifa externa comun), uma dos principais incentivos para essa exportação. Sendo assim os paises que pertencem ao bloco Mercosul também terão um maior aumento no pib em relação aos paises associados.\n",
    "   \n",
    "Para tirar nota acima de B é preciso indicar uma referência (estudo, artigo científico ou estudo) que embase dizer que a hipótese é crível. Use os [recursos de busca da biblioteca](https://www.insper.edu.br/biblioteca-telles/recursos-de-busca/)"
   ]
  },
  {
   "cell_type": "markdown",
   "metadata": {},
   "source": [
    "## Bases de dados usadas"
   ]
  },
  {
   "cell_type": "markdown",
   "metadata": {},
   "source": [
    "Link para o dowload dos dados: https://www.gapminder.org/data/.\n",
    "As variaveis que foram utilizadas para responder as perguntas foram: Exportação dos países, GDP ou PIB dos países."
   ]
  },
  {
   "cell_type": "markdown",
   "metadata": {},
   "source": [
    "## Análise de dados"
   ]
  },
  {
   "cell_type": "markdown",
   "metadata": {},
   "source": [
    "### Importando Bibliotecas##\n"
   ]
  },
  {
   "cell_type": "code",
   "execution_count": 64,
   "metadata": {},
   "outputs": [],
   "source": [
    "import pandas as pd\n",
    "import numpy as np\n",
    "import math as math\n",
    "from scipy import stats\n",
    "import matplotlib.pyplot as plt\n",
    "import seaborn as sns"
   ]
  },
  {
   "cell_type": "markdown",
   "metadata": {},
   "source": [
    "### Lendo base de dados via EXCEL."
   ]
  },
  {
   "cell_type": "code",
   "execution_count": 65,
   "metadata": {},
   "outputs": [],
   "source": [
    "dadospib = pd.read_excel('total_gdp_us_inflation_adjusted.xlsx') #pib\n",
    "dadosexp = pd.read_excel('bx_gsr_gnfs_cd.xlsx') #exportação"
   ]
  },
  {
   "cell_type": "markdown",
   "metadata": {},
   "source": [
    "### Trocando indice da tabela."
   ]
  },
  {
   "cell_type": "code",
   "execution_count": 66,
   "metadata": {},
   "outputs": [],
   "source": [
    "dadospib_country = dadospib.set_index(\"country\")\n",
    "dadosexp_country = dadosexp.set_index(\"country\")"
   ]
  },
  {
   "cell_type": "markdown",
   "metadata": {},
   "source": [
    "### Criando listas dos países membros e associdos."
   ]
  },
  {
   "cell_type": "code",
   "execution_count": 67,
   "metadata": {},
   "outputs": [],
   "source": [
    "mercosul = [\"Argentina\", \"Brazil\", \"Paraguay\", \"Uruguay\", \"Venezuela\"] #Membros\n",
    "associados = [\"Chile\", \"Guyana\", \"Ecuador\", \"Colombia\", \"Peru\", \"Suriname\"] #Associados"
   ]
  },
  {
   "cell_type": "markdown",
   "metadata": {},
   "source": [
    "### Lista de anos à ser observados (desde a criação do bloco)."
   ]
  },
  {
   "cell_type": "code",
   "execution_count": 68,
   "metadata": {},
   "outputs": [],
   "source": [
    "anos = [1991, 1992, 1993, 1994, 1995, 1996, 1997, 1998, 1999, 2000, 2001, 2002, 2003, 2004, 2005, 2006, 2007, 2008, 2009, 2010, 2011, 2012, 2013, 2014, 2015, 2016]"
   ]
  },
  {
   "cell_type": "markdown",
   "metadata": {},
   "source": [
    "### Criando coluna de membros, associados e resto do mundo."
   ]
  },
  {
   "cell_type": "code",
   "execution_count": 69,
   "metadata": {},
   "outputs": [],
   "source": [
    "dadospib_country.loc[:, \"MERCOSUL\"] = 'Não'\n",
    "dadospib_country.loc[mercosul, \"MERCOSUL\"]='Mercosul'\n",
    "dadospib_country.loc[associados, \"MERCOSUL\"]='Associados'\n",
    "\n",
    "dadosexp_country.loc[:,\"MERCOSUL\"]= 'Não'\n",
    "dadosexp_country.loc[mercosul, \"MERCOSUL\"]= 'Mercosul'\n",
    "dadosexp_country.loc[associados, \"MERCOSUL\"]= 'Associados'"
   ]
  },
  {
   "cell_type": "code",
   "execution_count": 70,
   "metadata": {},
   "outputs": [
    {
     "data": {
      "text/html": [
       "<div>\n",
       "<style scoped>\n",
       "    .dataframe tbody tr th:only-of-type {\n",
       "        vertical-align: middle;\n",
       "    }\n",
       "\n",
       "    .dataframe tbody tr th {\n",
       "        vertical-align: top;\n",
       "    }\n",
       "\n",
       "    .dataframe thead th {\n",
       "        text-align: right;\n",
       "    }\n",
       "</style>\n",
       "<table border=\"1\" class=\"dataframe\">\n",
       "  <thead>\n",
       "    <tr style=\"text-align: right;\">\n",
       "      <th></th>\n",
       "      <th>1960</th>\n",
       "      <th>1961</th>\n",
       "      <th>1962</th>\n",
       "      <th>1963</th>\n",
       "      <th>1964</th>\n",
       "      <th>1965</th>\n",
       "      <th>1966</th>\n",
       "      <th>1967</th>\n",
       "      <th>1968</th>\n",
       "      <th>1969</th>\n",
       "      <th>...</th>\n",
       "      <th>2009</th>\n",
       "      <th>2010</th>\n",
       "      <th>2011</th>\n",
       "      <th>2012</th>\n",
       "      <th>2013</th>\n",
       "      <th>2014</th>\n",
       "      <th>2015</th>\n",
       "      <th>2016</th>\n",
       "      <th>2017</th>\n",
       "      <th>MERCOSUL</th>\n",
       "    </tr>\n",
       "    <tr>\n",
       "      <th>country</th>\n",
       "      <th></th>\n",
       "      <th></th>\n",
       "      <th></th>\n",
       "      <th></th>\n",
       "      <th></th>\n",
       "      <th></th>\n",
       "      <th></th>\n",
       "      <th></th>\n",
       "      <th></th>\n",
       "      <th></th>\n",
       "      <th></th>\n",
       "      <th></th>\n",
       "      <th></th>\n",
       "      <th></th>\n",
       "      <th></th>\n",
       "      <th></th>\n",
       "      <th></th>\n",
       "      <th></th>\n",
       "      <th></th>\n",
       "      <th></th>\n",
       "      <th></th>\n",
       "    </tr>\n",
       "  </thead>\n",
       "  <tbody>\n",
       "    <tr>\n",
       "      <th>Argentina</th>\n",
       "      <td>1.160000e+11</td>\n",
       "      <td>1.220000e+11</td>\n",
       "      <td>1.210000e+11</td>\n",
       "      <td>1.140000e+11</td>\n",
       "      <td>1.260000e+11</td>\n",
       "      <td>1.390000e+11</td>\n",
       "      <td>1.380000e+11</td>\n",
       "      <td>1.430000e+11</td>\n",
       "      <td>1.500000e+11</td>\n",
       "      <td>1.640000e+11</td>\n",
       "      <td>...</td>\n",
       "      <td>3.850000e+11</td>\n",
       "      <td>424000000000</td>\n",
       "      <td>4.490000e+11</td>\n",
       "      <td>4.440000e+11</td>\n",
       "      <td>4.550000e+11</td>\n",
       "      <td>4.440000e+11</td>\n",
       "      <td>4.560000e+11</td>\n",
       "      <td>4.480000e+11</td>\n",
       "      <td>4.600000e+11</td>\n",
       "      <td>Mercosul</td>\n",
       "    </tr>\n",
       "    <tr>\n",
       "      <th>Brazil</th>\n",
       "      <td>2.470000e+11</td>\n",
       "      <td>2.730000e+11</td>\n",
       "      <td>2.870000e+11</td>\n",
       "      <td>2.890000e+11</td>\n",
       "      <td>3.000000e+11</td>\n",
       "      <td>3.090000e+11</td>\n",
       "      <td>3.220000e+11</td>\n",
       "      <td>3.370000e+11</td>\n",
       "      <td>3.760000e+11</td>\n",
       "      <td>4.130000e+11</td>\n",
       "      <td>...</td>\n",
       "      <td>2.050000e+12</td>\n",
       "      <td>2210000000000</td>\n",
       "      <td>2.300000e+12</td>\n",
       "      <td>2.340000e+12</td>\n",
       "      <td>2.410000e+12</td>\n",
       "      <td>2.420000e+12</td>\n",
       "      <td>2.340000e+12</td>\n",
       "      <td>2.260000e+12</td>\n",
       "      <td>2.280000e+12</td>\n",
       "      <td>Mercosul</td>\n",
       "    </tr>\n",
       "    <tr>\n",
       "      <th>Paraguay</th>\n",
       "      <td>1.950000e+09</td>\n",
       "      <td>2.090000e+09</td>\n",
       "      <td>2.150000e+09</td>\n",
       "      <td>2.260000e+09</td>\n",
       "      <td>2.350000e+09</td>\n",
       "      <td>2.500000e+09</td>\n",
       "      <td>2.550000e+09</td>\n",
       "      <td>2.780000e+09</td>\n",
       "      <td>2.910000e+09</td>\n",
       "      <td>3.040000e+09</td>\n",
       "      <td>...</td>\n",
       "      <td>1.770000e+10</td>\n",
       "      <td>20000000000</td>\n",
       "      <td>2.090000e+10</td>\n",
       "      <td>2.060000e+10</td>\n",
       "      <td>2.350000e+10</td>\n",
       "      <td>2.470000e+10</td>\n",
       "      <td>2.540000e+10</td>\n",
       "      <td>2.640000e+10</td>\n",
       "      <td>2.660000e+10</td>\n",
       "      <td>Mercosul</td>\n",
       "    </tr>\n",
       "    <tr>\n",
       "      <th>Uruguay</th>\n",
       "      <td>1.390000e+10</td>\n",
       "      <td>1.420000e+10</td>\n",
       "      <td>1.400000e+10</td>\n",
       "      <td>1.400000e+10</td>\n",
       "      <td>1.440000e+10</td>\n",
       "      <td>1.450000e+10</td>\n",
       "      <td>1.500000e+10</td>\n",
       "      <td>1.440000e+10</td>\n",
       "      <td>1.470000e+10</td>\n",
       "      <td>1.560000e+10</td>\n",
       "      <td>...</td>\n",
       "      <td>3.740000e+10</td>\n",
       "      <td>40300000000</td>\n",
       "      <td>4.240000e+10</td>\n",
       "      <td>4.390000e+10</td>\n",
       "      <td>4.590000e+10</td>\n",
       "      <td>4.740000e+10</td>\n",
       "      <td>4.760000e+10</td>\n",
       "      <td>4.840000e+10</td>\n",
       "      <td>4.960000e+10</td>\n",
       "      <td>Mercosul</td>\n",
       "    </tr>\n",
       "    <tr>\n",
       "      <th>Venezuela</th>\n",
       "      <td>1.010000e+11</td>\n",
       "      <td>1.050000e+11</td>\n",
       "      <td>1.140000e+11</td>\n",
       "      <td>1.180000e+11</td>\n",
       "      <td>1.310000e+11</td>\n",
       "      <td>1.370000e+11</td>\n",
       "      <td>1.390000e+11</td>\n",
       "      <td>1.430000e+11</td>\n",
       "      <td>1.530000e+11</td>\n",
       "      <td>1.540000e+11</td>\n",
       "      <td>...</td>\n",
       "      <td>3.990000e+11</td>\n",
       "      <td>393000000000</td>\n",
       "      <td>4.100000e+11</td>\n",
       "      <td>4.330000e+11</td>\n",
       "      <td>4.380000e+11</td>\n",
       "      <td>4.210000e+11</td>\n",
       "      <td>NaN</td>\n",
       "      <td>NaN</td>\n",
       "      <td>NaN</td>\n",
       "      <td>Mercosul</td>\n",
       "    </tr>\n",
       "  </tbody>\n",
       "</table>\n",
       "<p>5 rows × 59 columns</p>\n",
       "</div>"
      ],
      "text/plain": [
       "                   1960          1961          1962          1963  \\\n",
       "country                                                             \n",
       "Argentina  1.160000e+11  1.220000e+11  1.210000e+11  1.140000e+11   \n",
       "Brazil     2.470000e+11  2.730000e+11  2.870000e+11  2.890000e+11   \n",
       "Paraguay   1.950000e+09  2.090000e+09  2.150000e+09  2.260000e+09   \n",
       "Uruguay    1.390000e+10  1.420000e+10  1.400000e+10  1.400000e+10   \n",
       "Venezuela  1.010000e+11  1.050000e+11  1.140000e+11  1.180000e+11   \n",
       "\n",
       "                   1964          1965          1966          1967  \\\n",
       "country                                                             \n",
       "Argentina  1.260000e+11  1.390000e+11  1.380000e+11  1.430000e+11   \n",
       "Brazil     3.000000e+11  3.090000e+11  3.220000e+11  3.370000e+11   \n",
       "Paraguay   2.350000e+09  2.500000e+09  2.550000e+09  2.780000e+09   \n",
       "Uruguay    1.440000e+10  1.450000e+10  1.500000e+10  1.440000e+10   \n",
       "Venezuela  1.310000e+11  1.370000e+11  1.390000e+11  1.430000e+11   \n",
       "\n",
       "                   1968          1969    ...             2009           2010  \\\n",
       "country                                  ...                                   \n",
       "Argentina  1.500000e+11  1.640000e+11    ...     3.850000e+11   424000000000   \n",
       "Brazil     3.760000e+11  4.130000e+11    ...     2.050000e+12  2210000000000   \n",
       "Paraguay   2.910000e+09  3.040000e+09    ...     1.770000e+10    20000000000   \n",
       "Uruguay    1.470000e+10  1.560000e+10    ...     3.740000e+10    40300000000   \n",
       "Venezuela  1.530000e+11  1.540000e+11    ...     3.990000e+11   393000000000   \n",
       "\n",
       "                   2011          2012          2013          2014  \\\n",
       "country                                                             \n",
       "Argentina  4.490000e+11  4.440000e+11  4.550000e+11  4.440000e+11   \n",
       "Brazil     2.300000e+12  2.340000e+12  2.410000e+12  2.420000e+12   \n",
       "Paraguay   2.090000e+10  2.060000e+10  2.350000e+10  2.470000e+10   \n",
       "Uruguay    4.240000e+10  4.390000e+10  4.590000e+10  4.740000e+10   \n",
       "Venezuela  4.100000e+11  4.330000e+11  4.380000e+11  4.210000e+11   \n",
       "\n",
       "                   2015          2016          2017  MERCOSUL  \n",
       "country                                                        \n",
       "Argentina  4.560000e+11  4.480000e+11  4.600000e+11  Mercosul  \n",
       "Brazil     2.340000e+12  2.260000e+12  2.280000e+12  Mercosul  \n",
       "Paraguay   2.540000e+10  2.640000e+10  2.660000e+10  Mercosul  \n",
       "Uruguay    4.760000e+10  4.840000e+10  4.960000e+10  Mercosul  \n",
       "Venezuela           NaN           NaN           NaN  Mercosul  \n",
       "\n",
       "[5 rows x 59 columns]"
      ]
     },
     "execution_count": 70,
     "metadata": {},
     "output_type": "execute_result"
    }
   ],
   "source": [
    "dados1 = dadospib_country.loc[dadospib_country[\"MERCOSUL\"] == 'Mercosul']\n",
    "dados1"
   ]
  },
  {
   "cell_type": "code",
   "execution_count": 71,
   "metadata": {},
   "outputs": [
    {
     "data": {
      "text/html": [
       "<div>\n",
       "<style scoped>\n",
       "    .dataframe tbody tr th:only-of-type {\n",
       "        vertical-align: middle;\n",
       "    }\n",
       "\n",
       "    .dataframe tbody tr th {\n",
       "        vertical-align: top;\n",
       "    }\n",
       "\n",
       "    .dataframe thead th {\n",
       "        text-align: right;\n",
       "    }\n",
       "</style>\n",
       "<table border=\"1\" class=\"dataframe\">\n",
       "  <thead>\n",
       "    <tr style=\"text-align: right;\">\n",
       "      <th></th>\n",
       "      <th>1960</th>\n",
       "      <th>1961</th>\n",
       "      <th>1962</th>\n",
       "      <th>1963</th>\n",
       "      <th>1964</th>\n",
       "      <th>1965</th>\n",
       "      <th>1966</th>\n",
       "      <th>1967</th>\n",
       "      <th>1968</th>\n",
       "      <th>1969</th>\n",
       "      <th>...</th>\n",
       "      <th>2009</th>\n",
       "      <th>2010</th>\n",
       "      <th>2011</th>\n",
       "      <th>2012</th>\n",
       "      <th>2013</th>\n",
       "      <th>2014</th>\n",
       "      <th>2015</th>\n",
       "      <th>2016</th>\n",
       "      <th>2017</th>\n",
       "      <th>MERCOSUL</th>\n",
       "    </tr>\n",
       "    <tr>\n",
       "      <th>country</th>\n",
       "      <th></th>\n",
       "      <th></th>\n",
       "      <th></th>\n",
       "      <th></th>\n",
       "      <th></th>\n",
       "      <th></th>\n",
       "      <th></th>\n",
       "      <th></th>\n",
       "      <th></th>\n",
       "      <th></th>\n",
       "      <th></th>\n",
       "      <th></th>\n",
       "      <th></th>\n",
       "      <th></th>\n",
       "      <th></th>\n",
       "      <th></th>\n",
       "      <th></th>\n",
       "      <th></th>\n",
       "      <th></th>\n",
       "      <th></th>\n",
       "      <th></th>\n",
       "    </tr>\n",
       "  </thead>\n",
       "  <tbody>\n",
       "    <tr>\n",
       "      <th>Chile</th>\n",
       "      <td>2.940000e+10</td>\n",
       "      <td>3.090000e+10</td>\n",
       "      <td>3.220000e+10</td>\n",
       "      <td>3.400000e+10</td>\n",
       "      <td>3.490000e+10</td>\n",
       "      <td>3.520000e+10</td>\n",
       "      <td>3.920000e+10</td>\n",
       "      <td>4.060000e+10</td>\n",
       "      <td>4.210000e+10</td>\n",
       "      <td>4.370000e+10</td>\n",
       "      <td>...</td>\n",
       "      <td>2.060000e+11</td>\n",
       "      <td>219000000000</td>\n",
       "      <td>2.320000e+11</td>\n",
       "      <td>2.440000e+11</td>\n",
       "      <td>2.540000e+11</td>\n",
       "      <td>2.590000e+11</td>\n",
       "      <td>2.650000e+11</td>\n",
       "      <td>2.680000e+11</td>\n",
       "      <td>2.720000e+11</td>\n",
       "      <td>Associados</td>\n",
       "    </tr>\n",
       "    <tr>\n",
       "      <th>Colombia</th>\n",
       "      <td>3.650000e+10</td>\n",
       "      <td>3.840000e+10</td>\n",
       "      <td>4.050000e+10</td>\n",
       "      <td>4.170000e+10</td>\n",
       "      <td>4.440000e+10</td>\n",
       "      <td>4.580000e+10</td>\n",
       "      <td>4.820000e+10</td>\n",
       "      <td>5.020000e+10</td>\n",
       "      <td>5.340000e+10</td>\n",
       "      <td>5.690000e+10</td>\n",
       "      <td>...</td>\n",
       "      <td>2.760000e+11</td>\n",
       "      <td>287000000000</td>\n",
       "      <td>3.060000e+11</td>\n",
       "      <td>3.180000e+11</td>\n",
       "      <td>3.340000e+11</td>\n",
       "      <td>3.480000e+11</td>\n",
       "      <td>3.590000e+11</td>\n",
       "      <td>3.660000e+11</td>\n",
       "      <td>3.730000e+11</td>\n",
       "      <td>Associados</td>\n",
       "    </tr>\n",
       "    <tr>\n",
       "      <th>Ecuador</th>\n",
       "      <td>1.020000e+10</td>\n",
       "      <td>1.040000e+10</td>\n",
       "      <td>1.080000e+10</td>\n",
       "      <td>1.130000e+10</td>\n",
       "      <td>1.210000e+10</td>\n",
       "      <td>1.270000e+10</td>\n",
       "      <td>1.270000e+10</td>\n",
       "      <td>1.320000e+10</td>\n",
       "      <td>1.350000e+10</td>\n",
       "      <td>1.410000e+10</td>\n",
       "      <td>...</td>\n",
       "      <td>6.720000e+10</td>\n",
       "      <td>69600000000</td>\n",
       "      <td>7.500000e+10</td>\n",
       "      <td>7.930000e+10</td>\n",
       "      <td>8.320000e+10</td>\n",
       "      <td>8.630000e+10</td>\n",
       "      <td>8.640000e+10</td>\n",
       "      <td>8.510000e+10</td>\n",
       "      <td>8.760000e+10</td>\n",
       "      <td>Associados</td>\n",
       "    </tr>\n",
       "    <tr>\n",
       "      <th>Guyana</th>\n",
       "      <td>9.600000e+08</td>\n",
       "      <td>1.010000e+09</td>\n",
       "      <td>1.020000e+09</td>\n",
       "      <td>8.920000e+08</td>\n",
       "      <td>9.930000e+08</td>\n",
       "      <td>1.100000e+09</td>\n",
       "      <td>1.160000e+09</td>\n",
       "      <td>1.200000e+09</td>\n",
       "      <td>1.220000e+09</td>\n",
       "      <td>1.300000e+09</td>\n",
       "      <td>...</td>\n",
       "      <td>2.180000e+09</td>\n",
       "      <td>2270000000</td>\n",
       "      <td>2.390000e+09</td>\n",
       "      <td>2.520000e+09</td>\n",
       "      <td>2.640000e+09</td>\n",
       "      <td>2.750000e+09</td>\n",
       "      <td>2.830000e+09</td>\n",
       "      <td>2.930000e+09</td>\n",
       "      <td>3.010000e+09</td>\n",
       "      <td>Associados</td>\n",
       "    </tr>\n",
       "    <tr>\n",
       "      <th>Peru</th>\n",
       "      <td>2.700000e+10</td>\n",
       "      <td>2.900000e+10</td>\n",
       "      <td>3.190000e+10</td>\n",
       "      <td>3.330000e+10</td>\n",
       "      <td>3.550000e+10</td>\n",
       "      <td>3.750000e+10</td>\n",
       "      <td>4.050000e+10</td>\n",
       "      <td>4.210000e+10</td>\n",
       "      <td>4.220000e+10</td>\n",
       "      <td>4.360000e+10</td>\n",
       "      <td>...</td>\n",
       "      <td>1.360000e+11</td>\n",
       "      <td>148000000000</td>\n",
       "      <td>1.570000e+11</td>\n",
       "      <td>1.660000e+11</td>\n",
       "      <td>1.760000e+11</td>\n",
       "      <td>1.800000e+11</td>\n",
       "      <td>1.860000e+11</td>\n",
       "      <td>1.940000e+11</td>\n",
       "      <td>1.990000e+11</td>\n",
       "      <td>Associados</td>\n",
       "    </tr>\n",
       "    <tr>\n",
       "      <th>Suriname</th>\n",
       "      <td>NaN</td>\n",
       "      <td>NaN</td>\n",
       "      <td>NaN</td>\n",
       "      <td>NaN</td>\n",
       "      <td>NaN</td>\n",
       "      <td>NaN</td>\n",
       "      <td>NaN</td>\n",
       "      <td>NaN</td>\n",
       "      <td>NaN</td>\n",
       "      <td>NaN</td>\n",
       "      <td>...</td>\n",
       "      <td>4.150000e+09</td>\n",
       "      <td>4370000000</td>\n",
       "      <td>4.620000e+09</td>\n",
       "      <td>4.750000e+09</td>\n",
       "      <td>4.890000e+09</td>\n",
       "      <td>4.900000e+09</td>\n",
       "      <td>4.770000e+09</td>\n",
       "      <td>4.530000e+09</td>\n",
       "      <td>4.530000e+09</td>\n",
       "      <td>Associados</td>\n",
       "    </tr>\n",
       "  </tbody>\n",
       "</table>\n",
       "<p>6 rows × 59 columns</p>\n",
       "</div>"
      ],
      "text/plain": [
       "                  1960          1961          1962          1963  \\\n",
       "country                                                            \n",
       "Chile     2.940000e+10  3.090000e+10  3.220000e+10  3.400000e+10   \n",
       "Colombia  3.650000e+10  3.840000e+10  4.050000e+10  4.170000e+10   \n",
       "Ecuador   1.020000e+10  1.040000e+10  1.080000e+10  1.130000e+10   \n",
       "Guyana    9.600000e+08  1.010000e+09  1.020000e+09  8.920000e+08   \n",
       "Peru      2.700000e+10  2.900000e+10  3.190000e+10  3.330000e+10   \n",
       "Suriname           NaN           NaN           NaN           NaN   \n",
       "\n",
       "                  1964          1965          1966          1967  \\\n",
       "country                                                            \n",
       "Chile     3.490000e+10  3.520000e+10  3.920000e+10  4.060000e+10   \n",
       "Colombia  4.440000e+10  4.580000e+10  4.820000e+10  5.020000e+10   \n",
       "Ecuador   1.210000e+10  1.270000e+10  1.270000e+10  1.320000e+10   \n",
       "Guyana    9.930000e+08  1.100000e+09  1.160000e+09  1.200000e+09   \n",
       "Peru      3.550000e+10  3.750000e+10  4.050000e+10  4.210000e+10   \n",
       "Suriname           NaN           NaN           NaN           NaN   \n",
       "\n",
       "                  1968          1969     ...              2009          2010  \\\n",
       "country                                  ...                                   \n",
       "Chile     4.210000e+10  4.370000e+10     ...      2.060000e+11  219000000000   \n",
       "Colombia  5.340000e+10  5.690000e+10     ...      2.760000e+11  287000000000   \n",
       "Ecuador   1.350000e+10  1.410000e+10     ...      6.720000e+10   69600000000   \n",
       "Guyana    1.220000e+09  1.300000e+09     ...      2.180000e+09    2270000000   \n",
       "Peru      4.220000e+10  4.360000e+10     ...      1.360000e+11  148000000000   \n",
       "Suriname           NaN           NaN     ...      4.150000e+09    4370000000   \n",
       "\n",
       "                  2011          2012          2013          2014  \\\n",
       "country                                                            \n",
       "Chile     2.320000e+11  2.440000e+11  2.540000e+11  2.590000e+11   \n",
       "Colombia  3.060000e+11  3.180000e+11  3.340000e+11  3.480000e+11   \n",
       "Ecuador   7.500000e+10  7.930000e+10  8.320000e+10  8.630000e+10   \n",
       "Guyana    2.390000e+09  2.520000e+09  2.640000e+09  2.750000e+09   \n",
       "Peru      1.570000e+11  1.660000e+11  1.760000e+11  1.800000e+11   \n",
       "Suriname  4.620000e+09  4.750000e+09  4.890000e+09  4.900000e+09   \n",
       "\n",
       "                  2015          2016          2017    MERCOSUL  \n",
       "country                                                         \n",
       "Chile     2.650000e+11  2.680000e+11  2.720000e+11  Associados  \n",
       "Colombia  3.590000e+11  3.660000e+11  3.730000e+11  Associados  \n",
       "Ecuador   8.640000e+10  8.510000e+10  8.760000e+10  Associados  \n",
       "Guyana    2.830000e+09  2.930000e+09  3.010000e+09  Associados  \n",
       "Peru      1.860000e+11  1.940000e+11  1.990000e+11  Associados  \n",
       "Suriname  4.770000e+09  4.530000e+09  4.530000e+09  Associados  \n",
       "\n",
       "[6 rows x 59 columns]"
      ]
     },
     "execution_count": 71,
     "metadata": {},
     "output_type": "execute_result"
    }
   ],
   "source": [
    "dados2 = dadospib_country.loc[dadospib_country[\"MERCOSUL\"] == 'Associados']\n",
    "dados2"
   ]
  },
  {
   "cell_type": "markdown",
   "metadata": {},
   "source": [
    "### Criando coluna somente de associados (afim de facilitar a criação do primeiro gráfico)."
   ]
  },
  {
   "cell_type": "code",
   "execution_count": 72,
   "metadata": {},
   "outputs": [],
   "source": [
    "dadospib_country.loc[:, \"ASSOCIADOS\"]=0\n",
    "dadospib_country.loc[associados, \"ASSOCIADOS\"]=1\n",
    "\n",
    "dadosexp_country.loc[:, \"ASSOCIADOS\"]=0\n",
    "dadosexp_country.loc[associados, \"ASSOCIADOS\"]=1"
   ]
  },
  {
   "cell_type": "markdown",
   "metadata": {},
   "source": [
    "### Graficos comparando PIB, Exportação entre países membros e associados."
   ]
  },
  {
   "cell_type": "code",
   "execution_count": 73,
   "metadata": {},
   "outputs": [],
   "source": [
    "dadospib_mercosul = dadospib_country.loc[mercosul]\n",
    "dadosexp_mercosul = dadosexp_country.loc[mercosul]\n",
    "\n",
    "dadospib_associados = dadospib_country.loc[associados]\n",
    "dadosexp_associados = dadosexp_country.loc[associados]"
   ]
  },
  {
   "cell_type": "code",
   "execution_count": 74,
   "metadata": {},
   "outputs": [],
   "source": [
    "transpor_m = dadospib_mercosul.transpose()\n",
    "transpor_qnt_m = transpor_m[:-2]\n",
    "mercosul1 = transpor_qnt_m.loc[(transpor_qnt_m.index>1990) & (transpor_qnt_m.index<2017),:].transpose()\n",
    "soma_m = mercosul1.sum()\n",
    "\n",
    "\n",
    "transpor_a = dadospib_associados.transpose()\n",
    "transpor_qnt_a = transpor_a[:-2]\n",
    "associados1 = transpor_qnt_a.loc[(transpor_qnt_a.index>1990) & (transpor_qnt_a.index<2017),:].transpose()\n",
    "soma_a = associados1.sum()"
   ]
  },
  {
   "cell_type": "code",
   "execution_count": 75,
   "metadata": {},
   "outputs": [],
   "source": [
    "transpor_exp_m = dadosexp_mercosul.transpose()\n",
    "transpor_qnt_exp_m = transpor_exp_m[:-2]\n",
    "mercosul2 = transpor_qnt_exp_m.loc[(transpor_qnt_exp_m.index>1990) & (transpor_qnt_exp_m.index<2017),:].transpose()\n",
    "soma_exp_m = mercosul2.sum()\n",
    "\n",
    "\n",
    "transpor_exp_a = dadosexp_associados.transpose()\n",
    "transpor_qnt_exp_a = transpor_exp_a[:-2]\n",
    "associados2 = transpor_qnt_exp_a.loc[(transpor_qnt_exp_a.index>1990) & (transpor_qnt_exp_a.index<2017),:].transpose()\n",
    "soma_exp_a = associados2.sum()"
   ]
  },
  {
   "cell_type": "markdown",
   "metadata": {},
   "source": [
    "#### Comparação PIB, desde a criação do bloco até 2016, de membros e associados."
   ]
  },
  {
   "cell_type": "code",
   "execution_count": 76,
   "metadata": {},
   "outputs": [
    {
     "data": {
      "image/png": "[encoded data removed]",
      "text/plain": [
       "<Figure size 432x288 with 1 Axes>"
      ]
     },
     "metadata": {
      "needs_background": "light"
     },
     "output_type": "display_data"
    }
   ],
   "source": [
    "plt.plot(anos, soma_a, label=\"pib associados\")\n",
    "plt.plot(anos, soma_m, label=\"pib mercosul\")\n",
    "plt.title(\"Comparação PIB \")\n",
    "plt.xlabel(\"Anos\")\n",
    "plt.ylabel(\"PIB\")\n",
    "plt.legend()\n",
    "plt.show()"
   ]
  },
  {
   "cell_type": "markdown",
   "metadata": {},
   "source": [
    "#### Comparação Exportação, desde a criação do bloco até 2016, de membros associados."
   ]
  },
  {
   "cell_type": "code",
   "execution_count": 77,
   "metadata": {},
   "outputs": [
    {
     "data": {
      "image/png": "[encoded data removed]",
      "text/plain": [
       "<Figure size 432x288 with 1 Axes>"
      ]
     },
     "metadata": {
      "needs_background": "light"
     },
     "output_type": "display_data"
    }
   ],
   "source": [
    "plt.plot(anos, soma_exp_a, label=\"exp associados\")\n",
    "plt.plot(anos, soma_exp_m, label=\"exp mercosul\")\n",
    "plt.title(\"Comparação Exportação\")\n",
    "plt.xlabel(\"Anos\")\n",
    "plt.ylabel(\"PIB\")\n",
    "plt.legend()\n",
    "plt.show()"
   ]
  },
  {
   "cell_type": "markdown",
   "metadata": {},
   "source": [
    "#### Comparação PIB e Exportação, desde a criação do bloco até 2016, de membros e associados.\n"
   ]
  },
  {
   "cell_type": "code",
   "execution_count": 78,
   "metadata": {},
   "outputs": [
    {
     "data": {
      "image/png": "[encoded data removed]",
      "text/plain": [
       "<Figure size 432x288 with 1 Axes>"
      ]
     },
     "metadata": {
      "needs_background": "light"
     },
     "output_type": "display_data"
    }
   ],
   "source": [
    "plt.plot(anos, soma_a, label=\"pib associados\")\n",
    "plt.plot(anos, soma_m, label=\"pib mercosul\")\n",
    "plt.plot(anos, soma_exp_a, label=\"exp associados\")\n",
    "plt.plot(anos, soma_exp_m, label=\"exp mercosul\")\n",
    "plt.title(\"Comparação PIB e Exportação\")\n",
    "plt.xlabel(\"Anos\")\n",
    "plt.ylabel(\"PIB\")\n",
    "plt.legend()\n",
    "plt.show()"
   ]
  },
  {
   "cell_type": "markdown",
   "metadata": {},
   "source": [
    "### Plotando gráficos Boxplot"
   ]
  },
  {
   "cell_type": "markdown",
   "metadata": {},
   "source": [
    "#### Diante a exportação (depois de 10 anos de criação do bloco)"
   ]
  },
  {
   "cell_type": "code",
   "execution_count": 81,
   "metadata": {},
   "outputs": [
    {
     "data": {
      "text/plain": [
       "<matplotlib.axes._subplots.AxesSubplot at 0x22ea423c5f8>"
      ]
     },
     "execution_count": 81,
     "metadata": {},
     "output_type": "execute_result"
    },
    {
     "data": {
      "image/png": "[encoded data removed]",
      "text/plain": [
       "<Figure size 432x288 with 1 Axes>"
      ]
     },
     "metadata": {
      "needs_background": "light"
     },
     "output_type": "display_data"
    }
   ],
   "source": [
    "dadosexp_country.loc[ ~(dadosexp_country.MERCOSUL==\"Não\") ].boxplot(column=2001, by=\"MERCOSUL\")"
   ]
  },
  {
   "cell_type": "markdown",
   "metadata": {},
   "source": [
    "#### Diante ao PIB (depois de 10 anos de criação do bloco"
   ]
  },
  {
   "cell_type": "code",
   "execution_count": 82,
   "metadata": {},
   "outputs": [
    {
     "data": {
      "text/plain": [
       "<matplotlib.axes._subplots.AxesSubplot at 0x22ea4acbf98>"
      ]
     },
     "execution_count": 82,
     "metadata": {},
     "output_type": "execute_result"
    },
    {
     "data": {
      "image/png": "[encoded data removed]",
      "text/plain": [
       "<Figure size 432x288 with 1 Axes>"
      ]
     },
     "metadata": {
      "needs_background": "light"
     },
     "output_type": "display_data"
    }
   ],
   "source": [
    "dadospib_country.loc[ ~(dadospib_country.MERCOSUL==\"Não\") ].boxplot(column=2001, by=\"MERCOSUL\")"
   ]
  },
  {
   "cell_type": "code",
   "execution_count": null,
   "metadata": {},
   "outputs": [],
   "source": []
  }
 ],
 "metadata": {
  "kernelspec": {
   "display_name": "Python 3",
   "language": "python",
   "name": "python3"
  },
  "language_info": {
   "codemirror_mode": {
    "name": "ipython",
    "version": 3
   },
   "file_extension": ".py",
   "mimetype": "text/x-python",
   "name": "python",
   "nbconvert_exporter": "python",
   "pygments_lexer": "ipython3",
   "version": "3.7.1"
  }
 },
 "nbformat": 4,
 "nbformat_minor": 2
}
